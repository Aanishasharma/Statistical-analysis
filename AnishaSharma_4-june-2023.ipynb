{
 "cells": [
  {
   "cell_type": "code",
   "execution_count": 1,
   "id": "1858d09e",
   "metadata": {},
   "outputs": [],
   "source": [
    "import numpy as np\n",
    "import pandas as pd\n",
    "import matplotlib.pyplot as plt\n",
    "import seaborn as sns\n",
    "import scipy.stats as stats\n",
    "import statsmodels.stats.api as sm\n",
    "from scipy.stats import norm\n",
    "from scipy.stats import ttest_1samp, ttest_ind\n",
    "from statsmodels.stats.anova import _get_covariance,anova_lm\n",
    "from statsmodels.formula.api import ols"
   ]
  },
  {
   "cell_type": "markdown",
   "id": "7ebbd78d",
   "metadata": {},
   "source": [
    "## Problem 1\n",
    "\n",
    "## A physiotherapist with a male football team is interested in studying the relationship between foot injuries and the positions at which the players play from the data collected"
   ]
  },
  {
   "cell_type": "markdown",
   "id": "77315ac6",
   "metadata": {},
   "source": [
    "### 1.1 What is the probability that a randomly chosen player would suffer an injury?"
   ]
  },
  {
   "cell_type": "code",
   "execution_count": 166,
   "id": "337bb886",
   "metadata": {},
   "outputs": [
    {
     "name": "stdout",
     "output_type": "stream",
     "text": [
      "The probability that a randomly chosen player would suffer an injury is 0.617\n"
     ]
    }
   ],
   "source": [
    "Total_injured_players=145\n",
    "Total_players=235\n",
    "Prob_of_injured=Total_injured_players/Total_players\n",
    "print(\"The probability that a randomly chosen player would suffer an injury is\",round(Prob_of_injured,3))"
   ]
  },
  {
   "cell_type": "markdown",
   "id": "562f3b2b",
   "metadata": {},
   "source": [
    "### 1.2 What is the probability that a player is a forward or a winger?"
   ]
  },
  {
   "cell_type": "code",
   "execution_count": 168,
   "id": "3c2eb627",
   "metadata": {},
   "outputs": [
    {
     "name": "stdout",
     "output_type": "stream",
     "text": [
      "The probability that a player is a forward or a winger is 0.523\n"
     ]
    }
   ],
   "source": [
    "Total_forward=94\n",
    "Total_winger=29\n",
    "Prob_Forward=Total_forward/Total_players\n",
    "Prob_Winger=Total_winger/Total_players\n",
    "Prob_Forward_or_Winger = Prob_Forward + Prob_Winger\n",
    "print(\"The probability that a player is a forward or a winger is\",round(Prob_Forward_or_Winger,3))"
   ]
  },
  {
   "cell_type": "markdown",
   "id": "708ea591",
   "metadata": {},
   "source": [
    "### 1.3 What is the probability that a randomly chosen player plays in a striker position and has a foot injury?"
   ]
  },
  {
   "cell_type": "code",
   "execution_count": 173,
   "id": "7b3f604d",
   "metadata": {},
   "outputs": [
    {
     "name": "stdout",
     "output_type": "stream",
     "text": [
      "The probability that a randomly chosen player plays in a striker position and has a foot injury is 0.584\n"
     ]
    }
   ],
   "source": [
    "Striker_injured=45\n",
    "Total_injured=77\n",
    "Prob_Striker_and_injured=Striker_injured/Total_injured\n",
    "print(\"The probability that a randomly chosen player plays in a striker position and has a foot injury is\",round(Prob_Striker_and_injured,3))"
   ]
  },
  {
   "cell_type": "markdown",
   "id": "56c1ed65",
   "metadata": {},
   "source": [
    "### 1.4 What is the probability that a randomly chosen injured player is a striker?"
   ]
  },
  {
   "cell_type": "code",
   "execution_count": 171,
   "id": "3bc27ea5",
   "metadata": {},
   "outputs": [
    {
     "name": "stdout",
     "output_type": "stream",
     "text": [
      "The probability that a randomly chosen injured player is a striker is 0.31\n"
     ]
    }
   ],
   "source": [
    "Striker_injured=45\n",
    "Total_injured=145\n",
    "Total_players=235\n",
    "Prob_striken_foot_injured=Striker_injured/Total_players\n",
    "Prob_injured=Total_injured/Total_players\n",
    "Prob_Striker_and_Injured = Prob_striken_foot_injured/Prob_injured\n",
    "print(\"The probability that a randomly chosen injured player is a striker is\",round(Prob_Striker_and_Injured,3))"
   ]
  },
  {
   "cell_type": "markdown",
   "id": "5a9496e7",
   "metadata": {},
   "source": [
    "### 1.5 What is the probability that a randomly chosen injured player is either a forward or an attacking midfielder? "
   ]
  },
  {
   "cell_type": "code",
   "execution_count": 172,
   "id": "0a8be9b2",
   "metadata": {},
   "outputs": [
    {
     "name": "stdout",
     "output_type": "stream",
     "text": [
      "The probability that a randomly chosen injured player is either a forward or an attacking midfielder 0.552\n"
     ]
    }
   ],
   "source": [
    "Forward_injured=56\n",
    "Attacking_midfielder_injured=24\n",
    "Forward_injured_and_Attacking_injured=Forward_injured+Attacking_midfielder_injured\n",
    "Total_injured=145\n",
    "Either=Forward_injured_and_Attacking_injured/Total_injured\n",
    "print(\"The probability that a randomly chosen injured player is either a forward or an attacking midfielder\",round(Either,3))"
   ]
  },
  {
   "cell_type": "markdown",
   "id": "ae593297",
   "metadata": {},
   "source": [
    "## Problem 2\n",
    "\n",
    "## An independent research organization is trying to estimate the probability that an accident at a nuclear power plant will result in radiation leakage. The types of accidents possible at the plant are, fire hazards, mechanical failure, or human error. The research organization also knows that two or more types of accidents cannot occur simultaneously.\n",
    "\n",
    "## According to the studies carried out by the organization, the probability of a radiation leak in case of a fire is 20%, the probability of a radiation leak in case of a mechanical 50%, and the probability of a radiation leak in case of a human error is 10%. The studies also showed the following;\n",
    "\n",
    "## The probability of a radiation leak occurring simultaneously with a fire is 0.1%.\n",
    "## The probability of a radiation leak occurring simultaneously with a mechanical failure is 0.15%.\n",
    "## The probability of a radiation leak occurring simultaneously with a human error is 0.12%.\n",
    "## On the basis of the information available, answer the questions below:"
   ]
  },
  {
   "cell_type": "markdown",
   "id": "10376c18",
   "metadata": {},
   "source": [
    "### 2.1 What are the probabilities of a fire, a mechanical failure, and a human error respectively?"
   ]
  },
  {
   "cell_type": "code",
   "execution_count": 175,
   "id": "a702ff86",
   "metadata": {},
   "outputs": [
    {
     "name": "stdout",
     "output_type": "stream",
     "text": [
      "Probability of fire = 0.005\n",
      "Probability of mechanical = 0.003\n",
      "Probability of human error = 0.012\n"
     ]
    }
   ],
   "source": [
    "Prob_radiation_fire=0.2\n",
    "Prob_radition_mechanical=0.5\n",
    "Prob_radiation_humanerror=0.1\n",
    "Prob_radiation_union_fire=0.001\n",
    "Prob_radition_union_mechanical=0.0015\n",
    "Prob_radition_union_humanerror=0.0012\n",
    "Prob_fire=Prob_radiation_union_fire/Prob_radiation_fire\n",
    "Prob_mechanical=Prob_radition_union_mechanical/Prob_radition_mechanical\n",
    "Prob_humanerror=Prob_radition_union_humanerror/Prob_radiation_humanerror\n",
    "print(\"Probability of fire =\",Prob_fire)\n",
    "print(\"Probability of mechanical =\",Prob_mechanical)\n",
    "print(\"Probability of human error =\",round(Prob_humanerror,3))"
   ]
  },
  {
   "cell_type": "markdown",
   "id": "19166c86",
   "metadata": {},
   "source": [
    "### 2.2 What is the probability of a radiation leak?"
   ]
  },
  {
   "cell_type": "code",
   "execution_count": 177,
   "id": "c0e9712d",
   "metadata": {},
   "outputs": [
    {
     "name": "stdout",
     "output_type": "stream",
     "text": [
      "Probability of a radiation leak = 0.0037\n"
     ]
    }
   ],
   "source": [
    "Prob_leakradiation=Prob_radiation_union_fire+Prob_radition_union_mechanical+Prob_radition_union_humanerror\n",
    "print(\"Probability of a radiation leak =\",Prob_leakradiation)"
   ]
  },
  {
   "cell_type": "markdown",
   "id": "d71dcdf0",
   "metadata": {},
   "source": [
    "### 2.3 Suppose there has been a radiation leak in the reactor for which the definite cause is not known. What is the probability that it has been caused by:\n",
    "### A Fire.\n",
    "### A Mechanical Failure.\n",
    "### A Human Error."
   ]
  },
  {
   "cell_type": "code",
   "execution_count": 183,
   "id": "946cb6bc",
   "metadata": {},
   "outputs": [
    {
     "name": "stdout",
     "output_type": "stream",
     "text": [
      "Probability of radiation leak caused by fire = 0.27\n"
     ]
    }
   ],
   "source": [
    "# A Fire\n",
    "leak_fire=Prob_radiation_union_fire/Prob_leakradiation\n",
    "print(\"Probability of radiation leak caused by fire =\",round(leak_fire,3))"
   ]
  },
  {
   "cell_type": "code",
   "execution_count": 184,
   "id": "b8fa47b2",
   "metadata": {},
   "outputs": [
    {
     "name": "stdout",
     "output_type": "stream",
     "text": [
      "Probability of radiation leak caused by mechanical = 0.405\n"
     ]
    }
   ],
   "source": [
    "# A Mechanical Failure\n",
    "leak_mechanical=Prob_radition_union_mechanical/Prob_leakradiation\n",
    "print(\"Probability of radiation leak caused by mechanical =\",round(leak_mechanical,3))"
   ]
  },
  {
   "cell_type": "code",
   "execution_count": 185,
   "id": "275bb091",
   "metadata": {},
   "outputs": [
    {
     "name": "stdout",
     "output_type": "stream",
     "text": [
      "Probability of radiation leak caused by human error = 0.324\n"
     ]
    }
   ],
   "source": [
    "# A Human Error\n",
    "leak_humanerror=Prob_radition_union_humanerror/Prob_leakradiation\n",
    "print(\"Probability of radiation leak caused by human error =\",round(leak_humanerror,3))"
   ]
  },
  {
   "cell_type": "markdown",
   "id": "00eb4676",
   "metadata": {},
   "source": [
    "## Problem 3:\n",
    "\n",
    "## The breaking strength of gunny bags used for packaging cement is normally distributed with a mean of 5 kg per sq. centimeter and a standard deviation of 1.5 kg per sq. centimeter. The quality team of the cement company wants to know the following about the packaging material to better understand wastage or pilferage within the supply chain; Answer the questions below based on the given information; (Provide an appropriate visual representation of your answers, without which marks will be deducted)"
   ]
  },
  {
   "cell_type": "markdown",
   "id": "ecf3751f",
   "metadata": {},
   "source": [
    "### 3.1 What proportion of the gunny bags have a breaking strength less than 3.17 kg per sq cm?"
   ]
  },
  {
   "cell_type": "code",
   "execution_count": 8,
   "id": "1d98c2b8",
   "metadata": {},
   "outputs": [
    {
     "data": {
      "text/plain": [
       "-1.22"
      ]
     },
     "execution_count": 8,
     "metadata": {},
     "output_type": "execute_result"
    }
   ],
   "source": [
    "mean=5\n",
    "std=1.5\n",
    "x=3.17\n",
    "z=(x-mean)/std\n",
    "z"
   ]
  },
  {
   "cell_type": "code",
   "execution_count": 196,
   "id": "8226860b",
   "metadata": {},
   "outputs": [
    {
     "data": {
      "image/png": "[encoded data removed]",
      "text/plain": [
       "<Figure size 432x288 with 1 Axes>"
      ]
     },
     "metadata": {
      "needs_background": "light"
     },
     "output_type": "display_data"
    }
   ],
   "source": [
    "x=np.linspace(-3,3,50)\n",
    "plt.plot(x,norm.pdf(x,0,1))\n",
    "plt.axvline(x=z,c='r')\n",
    "plt.show()"
   ]
  },
  {
   "cell_type": "code",
   "execution_count": 3,
   "id": "99c60522",
   "metadata": {},
   "outputs": [
    {
     "data": {
      "text/plain": [
       "0.1112"
      ]
     },
     "execution_count": 3,
     "metadata": {},
     "output_type": "execute_result"
    }
   ],
   "source": [
    "round(stats.norm.cdf(-1.22),4)"
   ]
  },
  {
   "cell_type": "code",
   "execution_count": 4,
   "id": "f19fe419",
   "metadata": {},
   "outputs": [],
   "source": [
    "### 11.12% proportion of the bags have a breaking strength less than 3.17 kg per sq.cm."
   ]
  },
  {
   "cell_type": "markdown",
   "id": "7a841da5",
   "metadata": {},
   "source": [
    "### 3.2 What proportion of the gunny bags have a breaking strength at least 3.6 kg per sq cm.?"
   ]
  },
  {
   "cell_type": "code",
   "execution_count": 197,
   "id": "1c559268",
   "metadata": {},
   "outputs": [
    {
     "data": {
      "text/plain": [
       "-0.9333333333333332"
      ]
     },
     "execution_count": 197,
     "metadata": {},
     "output_type": "execute_result"
    }
   ],
   "source": [
    "x=3.6\n",
    "z=(x-mean)/std\n",
    "z"
   ]
  },
  {
   "cell_type": "code",
   "execution_count": 198,
   "id": "6955de79",
   "metadata": {},
   "outputs": [
    {
     "data": {
      "image/png": "[encoded data removed]",
      "text/plain": [
       "<Figure size 432x288 with 1 Axes>"
      ]
     },
     "metadata": {
      "needs_background": "light"
     },
     "output_type": "display_data"
    }
   ],
   "source": [
    "x=np.linspace(-3,3,50)\n",
    "plt.plot(x,norm.pdf(x,0,1))\n",
    "plt.axvline(x=z,c='r')\n",
    "plt.show()"
   ]
  },
  {
   "cell_type": "code",
   "execution_count": 44,
   "id": "18cf80a7",
   "metadata": {
    "scrolled": true
   },
   "outputs": [
    {
     "data": {
      "text/plain": [
       "0.8246760551477705"
      ]
     },
     "execution_count": 44,
     "metadata": {},
     "output_type": "execute_result"
    }
   ],
   "source": [
    "1-stats.norm.cdf(-0.9333333333333332)"
   ]
  },
  {
   "cell_type": "code",
   "execution_count": 5,
   "id": "c0f92462",
   "metadata": {},
   "outputs": [],
   "source": [
    "### 82.46% of the gunny bags have a breaking strength at least 3.6 kg per sq.cm."
   ]
  },
  {
   "cell_type": "markdown",
   "id": "420440d1",
   "metadata": {},
   "source": [
    "### 3.3 What proportion of the gunny bags have a breaking strength between 5 and 5.5 kg per sq cm.?"
   ]
  },
  {
   "cell_type": "code",
   "execution_count": 199,
   "id": "5697b895",
   "metadata": {},
   "outputs": [],
   "source": [
    "x1=5\n",
    "x2=5.5\n",
    "z1=(x1-mean)/std\n",
    "z2=(x2-mean)/std"
   ]
  },
  {
   "cell_type": "code",
   "execution_count": 200,
   "id": "e13a232c",
   "metadata": {},
   "outputs": [
    {
     "data": {
      "image/png": "[encoded data removed]",
      "text/plain": [
       "<Figure size 432x288 with 1 Axes>"
      ]
     },
     "metadata": {
      "needs_background": "light"
     },
     "output_type": "display_data"
    }
   ],
   "source": [
    "x=np.linspace(-3,3,50)\n",
    "plt.plot(x,norm.pdf(x,0,1))\n",
    "plt.axvline(x=z1,c='r')\n",
    "plt.axvline(x=z2,c='r')\n",
    "plt.show()"
   ]
  },
  {
   "cell_type": "code",
   "execution_count": 49,
   "id": "f0604c4f",
   "metadata": {},
   "outputs": [
    {
     "data": {
      "text/plain": [
       "0.13055865981823633"
      ]
     },
     "execution_count": 49,
     "metadata": {},
     "output_type": "execute_result"
    }
   ],
   "source": [
    "stats.norm.cdf(z2)-stats.norm.cdf(z1)"
   ]
  },
  {
   "cell_type": "code",
   "execution_count": 6,
   "id": "933a1d47",
   "metadata": {},
   "outputs": [],
   "source": [
    "### 13.05% of the gunny bags have breaking strength between 5 and 5.5 kg per sq.cm."
   ]
  },
  {
   "cell_type": "markdown",
   "id": "be08110c",
   "metadata": {},
   "source": [
    "### 3.4 What proportion of the gunny bags have a breaking strength NOT between 3 and 7.5 kg per sq cm.?"
   ]
  },
  {
   "cell_type": "code",
   "execution_count": 9,
   "id": "96600af0",
   "metadata": {},
   "outputs": [
    {
     "name": "stdout",
     "output_type": "stream",
     "text": [
      "-1.3333333333333333\n",
      "1.6666666666666667\n"
     ]
    }
   ],
   "source": [
    "x1=3\n",
    "x2=7.5\n",
    "z1=(x1-mean)/std\n",
    "z2=(x2-mean)/std\n",
    "print(z1)\n",
    "print(z2)"
   ]
  },
  {
   "cell_type": "code",
   "execution_count": 10,
   "id": "0b102f3d",
   "metadata": {},
   "outputs": [
    {
     "data": {
      "image/png": "[encoded data removed]",
      "text/plain": [
       "<Figure size 432x288 with 1 Axes>"
      ]
     },
     "metadata": {
      "needs_background": "light"
     },
     "output_type": "display_data"
    }
   ],
   "source": [
    "x=np.linspace(-3,3,50)\n",
    "plt.plot(x,norm.pdf(x,0,1))\n",
    "plt.axvline(x=z1,c='r')\n",
    "plt.axvline(x=z2,c='r')\n",
    "plt.show()"
   ]
  },
  {
   "cell_type": "code",
   "execution_count": 54,
   "id": "4a450d2f",
   "metadata": {},
   "outputs": [
    {
     "data": {
      "text/plain": [
       "0.13900157199868257"
      ]
     },
     "execution_count": 54,
     "metadata": {},
     "output_type": "execute_result"
    }
   ],
   "source": [
    "1-(stats.norm.cdf(z2)-stats.norm.cdf(z1))"
   ]
  },
  {
   "cell_type": "code",
   "execution_count": 11,
   "id": "d74548ed",
   "metadata": {},
   "outputs": [],
   "source": [
    "### ~14% of gunny bags have breaking strength not between 3 and 7.5 kg per sq.cm."
   ]
  },
  {
   "cell_type": "markdown",
   "id": "d3f910fe",
   "metadata": {},
   "source": [
    "## Problem 4:\n",
    "\n",
    " \n",
    "\n",
    "## Grades of the final examination in a training course are found to be normally distributed, with a mean of 77 and a standard deviation of 8.5. Based on the given information answer the questions below."
   ]
  },
  {
   "cell_type": "markdown",
   "id": "11d28cf1",
   "metadata": {},
   "source": [
    "### 4.1 What is the probability that a randomly chosen student gets a grade below 85 on this exam?"
   ]
  },
  {
   "cell_type": "code",
   "execution_count": 58,
   "id": "a9c3f76f",
   "metadata": {},
   "outputs": [
    {
     "data": {
      "text/plain": [
       "0.9411764705882353"
      ]
     },
     "execution_count": 58,
     "metadata": {},
     "output_type": "execute_result"
    }
   ],
   "source": [
    "mean=77\n",
    "std=8.5\n",
    "x=85\n",
    "z=(x-mean)/std\n",
    "z"
   ]
  },
  {
   "cell_type": "code",
   "execution_count": 60,
   "id": "68b11c54",
   "metadata": {},
   "outputs": [
    {
     "data": {
      "text/plain": [
       "0.8266927837484748"
      ]
     },
     "execution_count": 60,
     "metadata": {},
     "output_type": "execute_result"
    }
   ],
   "source": [
    "stats.norm.cdf(0.9411764705882353)"
   ]
  },
  {
   "cell_type": "code",
   "execution_count": 203,
   "id": "cbe30840",
   "metadata": {},
   "outputs": [],
   "source": [
    "# 82.66% of the people gets grade below 85 on this exam."
   ]
  },
  {
   "cell_type": "markdown",
   "id": "f32ee875",
   "metadata": {},
   "source": [
    "### 4.2 What is the probability that a randomly selected student scores between 65 and 87?"
   ]
  },
  {
   "cell_type": "code",
   "execution_count": 12,
   "id": "2b5f475d",
   "metadata": {},
   "outputs": [],
   "source": [
    "mean=77\n",
    "std=8.5\n",
    "x1=65\n",
    "x2=87\n",
    "z1=(x1-mean)/std\n",
    "z2=(x2-mean)/std"
   ]
  },
  {
   "cell_type": "code",
   "execution_count": 13,
   "id": "6b284806",
   "metadata": {},
   "outputs": [
    {
     "data": {
      "text/plain": [
       "0.8012869336779058"
      ]
     },
     "execution_count": 13,
     "metadata": {},
     "output_type": "execute_result"
    }
   ],
   "source": [
    "stats.norm.cdf(z2)-stats.norm.cdf(z1)"
   ]
  },
  {
   "cell_type": "code",
   "execution_count": 14,
   "id": "ff738357",
   "metadata": {},
   "outputs": [],
   "source": [
    "### 80.12% is the probability of a randomly selected student scores between 65 and 87."
   ]
  },
  {
   "cell_type": "markdown",
   "id": "d152f1a0",
   "metadata": {},
   "source": [
    "### 4.3 What should be the passing cut-off so that 75% of the students clear the exam?"
   ]
  },
  {
   "cell_type": "code",
   "execution_count": 67,
   "id": "66f79020",
   "metadata": {},
   "outputs": [
    {
     "data": {
      "text/plain": [
       "82.7331628766667"
      ]
     },
     "execution_count": 67,
     "metadata": {},
     "output_type": "execute_result"
    }
   ],
   "source": [
    "stats.norm.ppf(0.75,loc=77,scale=8.5)"
   ]
  },
  {
   "cell_type": "code",
   "execution_count": 204,
   "id": "3269314b",
   "metadata": {},
   "outputs": [],
   "source": [
    "# 82% marks are required so that 75% of the students clear the exam."
   ]
  },
  {
   "cell_type": "markdown",
   "id": "448590a4",
   "metadata": {},
   "source": [
    "## Problem 5:\n",
    "\n",
    " \n",
    "\n",
    "## Zingaro stone printing is a company that specializes in printing images or patterns on polished or unpolished stones. However, for the optimum level of printing of the image the stone surface has to have a Brinell's hardness index of at least 150. Recently, Zingaro has received a batch of polished and unpolished stones from its clients. Use the data provided to answer the following (assuming a 5% significance level);\n",
    "\n",
    " "
   ]
  },
  {
   "cell_type": "markdown",
   "id": "cbbbfb66",
   "metadata": {},
   "source": [
    "### 5.1 Earlier experience of Zingaro with this particular client is favorable as the stone surface was found to be of adequate hardness. However, Zingaro has reason to believe now that the unpolished stones may not be suitable for printing. Do you think Zingaro is justified in thinking so?"
   ]
  },
  {
   "cell_type": "code",
   "execution_count": 16,
   "id": "159036c9",
   "metadata": {},
   "outputs": [
    {
     "data": {
      "text/html": [
       "<div>\n",
       "<style scoped>\n",
       "    .dataframe tbody tr th:only-of-type {\n",
       "        vertical-align: middle;\n",
       "    }\n",
       "\n",
       "    .dataframe tbody tr th {\n",
       "        vertical-align: top;\n",
       "    }\n",
       "\n",
       "    .dataframe thead th {\n",
       "        text-align: right;\n",
       "    }\n",
       "</style>\n",
       "<table border=\"1\" class=\"dataframe\">\n",
       "  <thead>\n",
       "    <tr style=\"text-align: right;\">\n",
       "      <th></th>\n",
       "      <th>Unpolished</th>\n",
       "      <th>Treated and Polished</th>\n",
       "    </tr>\n",
       "  </thead>\n",
       "  <tbody>\n",
       "    <tr>\n",
       "      <th>0</th>\n",
       "      <td>164.481713</td>\n",
       "      <td>133.209393</td>\n",
       "    </tr>\n",
       "    <tr>\n",
       "      <th>1</th>\n",
       "      <td>154.307045</td>\n",
       "      <td>138.482771</td>\n",
       "    </tr>\n",
       "    <tr>\n",
       "      <th>2</th>\n",
       "      <td>129.861048</td>\n",
       "      <td>159.665201</td>\n",
       "    </tr>\n",
       "    <tr>\n",
       "      <th>3</th>\n",
       "      <td>159.096184</td>\n",
       "      <td>145.663528</td>\n",
       "    </tr>\n",
       "    <tr>\n",
       "      <th>4</th>\n",
       "      <td>135.256748</td>\n",
       "      <td>136.789227</td>\n",
       "    </tr>\n",
       "  </tbody>\n",
       "</table>\n",
       "</div>"
      ],
      "text/plain": [
       "   Unpolished   Treated and Polished\n",
       "0   164.481713            133.209393\n",
       "1   154.307045            138.482771\n",
       "2   129.861048            159.665201\n",
       "3   159.096184            145.663528\n",
       "4   135.256748            136.789227"
      ]
     },
     "execution_count": 16,
     "metadata": {},
     "output_type": "execute_result"
    }
   ],
   "source": [
    "data=pd.read_csv(\"Zingaro_Company.csv\")\n",
    "data.head()"
   ]
  },
  {
   "cell_type": "markdown",
   "id": "3f6bedc5",
   "metadata": {},
   "source": [
    "#### Step 1: Define Null and Alternate hypotheses  \n",
    " H0 = Mean brinell's hardness index of unpolished stone is greater than or equal to 150. H0: µ=>150.\n",
    " Ha = Mean brinell's hardness index of unpolished stone is less than 150.  Ha: µ<150.\n",
    "\n",
    "#### Step 2: Decide significance level, apha=0.05"
   ]
  },
  {
   "cell_type": "code",
   "execution_count": 17,
   "id": "8f792b07",
   "metadata": {},
   "outputs": [
    {
     "name": "stdout",
     "output_type": "stream",
     "text": [
      "The size of this sample is 75\n"
     ]
    }
   ],
   "source": [
    "print(\"The size of this sample is\",len(data))"
   ]
  },
  {
   "cell_type": "markdown",
   "id": "d2f7fd06",
   "metadata": {},
   "source": [
    "#### Step 3: Identify the test statistics.\n",
    " We do not know the population standard deviation and n = 75. So we use the t distribution and the tSTAT test statistic."
   ]
  },
  {
   "cell_type": "markdown",
   "id": "87d6f528",
   "metadata": {},
   "source": [
    "\n",
    "#### Step 4: Calculate the p - value and test statistic\n",
    "scipy.stats.ttest_1samp calculates the t test for the mean of one sample given the sample observations and the expected value in the null hypothesis. This function returns t statistic and the two-tailed p value."
   ]
  },
  {
   "cell_type": "code",
   "execution_count": 163,
   "id": "9b850c3e",
   "metadata": {},
   "outputs": [
    {
     "name": "stdout",
     "output_type": "stream",
     "text": [
      "One sample t test \n",
      "t statistic: -4.164629601426758 p value: 8.342573994839285e-05 \n"
     ]
    }
   ],
   "source": [
    "t_statistic, p_value = ttest_1samp(data[\"Unpolished \"], 150)\n",
    "print('One sample t test \\nt statistic: {0} p value: {1} '.format(t_statistic, p_value))"
   ]
  },
  {
   "cell_type": "code",
   "execution_count": 1,
   "id": "9de97bb2",
   "metadata": {},
   "outputs": [
    {
     "data": {
      "text/plain": [
       "4.1712869974196425e-05"
      ]
     },
     "execution_count": 1,
     "metadata": {},
     "output_type": "execute_result"
    }
   ],
   "source": [
    "p_value=8.342573994839285e-05/2\n",
    "p_value"
   ]
  },
  {
   "cell_type": "markdown",
   "id": "dcaa5423",
   "metadata": {},
   "source": [
    " Here, we see that the values of test statistic and the p-value are -4.164629601426758, 4.1712869974196425e-05 respectively."
   ]
  },
  {
   "cell_type": "markdown",
   "id": "d33020a7",
   "metadata": {},
   "source": [
    "#### Step 5: Decide to reject or accept the null hypotheses."
   ]
  },
  {
   "cell_type": "code",
   "execution_count": 2,
   "id": "489cf1ac",
   "metadata": {
    "scrolled": true
   },
   "outputs": [
    {
     "name": "stdout",
     "output_type": "stream",
     "text": [
      "Level of significance: 0.05\n",
      "We have evidence to reject the null hypothesis since p value < Level of significance\n",
      "Our one-sample t-test p-value= 4.1712869974196425e-05\n"
     ]
    }
   ],
   "source": [
    "# p_value < 0.05 => alternative hypothesis:\n",
    "\n",
    "alpha_value = 0.05 # Level of significance\n",
    "print('Level of significance: %.2f' %alpha_value)\n",
    "if p_value < alpha_value: \n",
    "    print('We have evidence to reject the null hypothesis since p value < Level of significance')\n",
    "else:\n",
    "    print('We have no evidence to reject the null hypothesis since p value > Level of significance') \n",
    "\n",
    "print (\"Our one-sample t-test p-value=\", p_value)"
   ]
  },
  {
   "cell_type": "markdown",
   "id": "cd5416b9",
   "metadata": {},
   "source": [
    "So from that we have analyse that there is sufficient evidence for Zingaro company to believe that unpolished stones are not suitable for printing as brinell's hardness index is less than 150."
   ]
  },
  {
   "cell_type": "markdown",
   "id": "207b8bb1",
   "metadata": {},
   "source": [
    "### 5.2 Is the mean hardness of the polished and unpolished stones the same?"
   ]
  },
  {
   "cell_type": "code",
   "execution_count": 7,
   "id": "a5289d3b",
   "metadata": {},
   "outputs": [
    {
     "data": {
      "text/plain": [
       "Unpolished              134.110527\n",
       "Treated and Polished    147.788117\n",
       "dtype: float64"
      ]
     },
     "execution_count": 7,
     "metadata": {},
     "output_type": "execute_result"
    }
   ],
   "source": [
    "mean=data.mean()\n",
    "mean"
   ]
  },
  {
   "cell_type": "code",
   "execution_count": 9,
   "id": "f22dad13",
   "metadata": {},
   "outputs": [],
   "source": [
    "### means are not same as mean of unpolished is 134.2 and mean of Treated and Polished is 147.7"
   ]
  },
  {
   "cell_type": "markdown",
   "id": "c0d2e449",
   "metadata": {},
   "source": [
    "### 6. Aquarius health club, one of the largest and most popular cross-fit gyms in the country has been advertising a rigorous program for body conditioning. The program is considered successful if the candidate is able to do more than 5 push-ups, as compared to when he/she enrolled in the program. Using the sample data provided can you conclude whether the program is successful? (Consider the level of Significance as 5%) Note that this is a problem of the paired-t-test. Since the claim is that the training will make a difference of more than 5, the null and alternative hypotheses must be formed accordingly."
   ]
  },
  {
   "cell_type": "code",
   "execution_count": 40,
   "id": "7ddeef44",
   "metadata": {},
   "outputs": [
    {
     "data": {
      "text/html": [
       "<div>\n",
       "<style scoped>\n",
       "    .dataframe tbody tr th:only-of-type {\n",
       "        vertical-align: middle;\n",
       "    }\n",
       "\n",
       "    .dataframe tbody tr th {\n",
       "        vertical-align: top;\n",
       "    }\n",
       "\n",
       "    .dataframe thead th {\n",
       "        text-align: right;\n",
       "    }\n",
       "</style>\n",
       "<table border=\"1\" class=\"dataframe\">\n",
       "  <thead>\n",
       "    <tr style=\"text-align: right;\">\n",
       "      <th></th>\n",
       "      <th>Sr no.</th>\n",
       "      <th>Before</th>\n",
       "      <th>After</th>\n",
       "    </tr>\n",
       "  </thead>\n",
       "  <tbody>\n",
       "    <tr>\n",
       "      <th>0</th>\n",
       "      <td>1</td>\n",
       "      <td>39</td>\n",
       "      <td>44</td>\n",
       "    </tr>\n",
       "    <tr>\n",
       "      <th>1</th>\n",
       "      <td>2</td>\n",
       "      <td>25</td>\n",
       "      <td>25</td>\n",
       "    </tr>\n",
       "    <tr>\n",
       "      <th>2</th>\n",
       "      <td>3</td>\n",
       "      <td>39</td>\n",
       "      <td>39</td>\n",
       "    </tr>\n",
       "    <tr>\n",
       "      <th>3</th>\n",
       "      <td>4</td>\n",
       "      <td>6</td>\n",
       "      <td>13</td>\n",
       "    </tr>\n",
       "    <tr>\n",
       "      <th>4</th>\n",
       "      <td>5</td>\n",
       "      <td>40</td>\n",
       "      <td>44</td>\n",
       "    </tr>\n",
       "  </tbody>\n",
       "</table>\n",
       "</div>"
      ],
      "text/plain": [
       "   Sr no.  Before  After\n",
       "0       1      39     44\n",
       "1       2      25     25\n",
       "2       3      39     39\n",
       "3       4       6     13\n",
       "4       5      40     44"
      ]
     },
     "execution_count": 40,
     "metadata": {},
     "output_type": "execute_result"
    }
   ],
   "source": [
    "df=pd.read_csv(\"Aquarius_gym.csv\")\n",
    "df.head()"
   ]
  },
  {
   "cell_type": "markdown",
   "id": "16e10d8b",
   "metadata": {},
   "source": [
    "#### Step 1: Define Null and Alternate hypotheses. \n",
    "We have define if candidate is able to do more than 5 pushups as compared to when he/she joined the program.\n",
    "µ1 = count of pushups after joining the program.\n",
    "µ2 = count of pushups before joining the program.\n",
    "H0 = Difference after joining the program pushup counts has been increased to more than 5. H0: µ1-µ2<5.\n",
    "Ha = Difference after joining the program pushup counts has not been increased to more than 5.  Ha: µ1-µ2>5.\n",
    "\n",
    "#### Step 2: Decide significance level.\n",
    "alpha=0.05 and standard deviation is not known."
   ]
  },
  {
   "cell_type": "code",
   "execution_count": 41,
   "id": "fbb18097",
   "metadata": {},
   "outputs": [
    {
     "name": "stdout",
     "output_type": "stream",
     "text": [
      "The size of this sample is 100\n"
     ]
    }
   ],
   "source": [
    "print(\"The size of this sample is\",len(df))"
   ]
  },
  {
   "cell_type": "markdown",
   "id": "172f2dba",
   "metadata": {},
   "source": [
    "#### Step 3: Identify the test statistics.\n",
    "1.We have two samples and we do not know the population standard deviation.\n",
    "\n",
    "2.Sample sizes for both samples are same.\n",
    "\n",
    "3.The sample is n=100. So you use the t distribution and the tSTAT test statistic for two sample unpaired test."
   ]
  },
  {
   "cell_type": "markdown",
   "id": "3537e969",
   "metadata": {},
   "source": [
    "#### Step 4: Calculate the p - value and test statistic\n",
    "We use the scipy.stats.ttest_ind to calculate the t-test for the means of TWO INDEPENDENT samples of scores given the two sample observations. This function returns t statistic and two-tailed p value.\n",
    "\n",
    "This is a two-sided test for the null hypothesis that 2 independent samples have identical average (expected) values. This test assumes that the populations have identical variances."
   ]
  },
  {
   "cell_type": "code",
   "execution_count": 42,
   "id": "170d6e82",
   "metadata": {},
   "outputs": [
    {
     "name": "stdout",
     "output_type": "stream",
     "text": [
      "-19.322619811082458\n",
      "2.2920419252511966e-35\n"
     ]
    }
   ],
   "source": [
    "t_statistics,p_value1=stats.ttest_rel(df[\"Before\"],df[\"After\"])\n",
    "print(t_statistics)\n",
    "print(p_value1)"
   ]
  },
  {
   "cell_type": "code",
   "execution_count": 26,
   "id": "e45a392a",
   "metadata": {},
   "outputs": [
    {
     "name": "stdout",
     "output_type": "stream",
     "text": [
      "1.1460209626255983e-35\n"
     ]
    }
   ],
   "source": [
    "# for one tailed \n",
    "print(p_value1/2)"
   ]
  },
  {
   "cell_type": "markdown",
   "id": "fa852560",
   "metadata": {},
   "source": [
    "#### Step 5: Decide to reject or accept the null hypotheses."
   ]
  },
  {
   "cell_type": "code",
   "execution_count": 43,
   "id": "cfd7d2bc",
   "metadata": {},
   "outputs": [
    {
     "name": "stdout",
     "output_type": "stream",
     "text": [
      "Paired two-sample t-test p-value= 1.1460209626255983e-35\n",
      "We have enough evidence to reject the null hypothesis in favour of alternative hypothesis\n",
      "We conclude that the difference after joining the program pushup counts has been increased.\n"
     ]
    }
   ],
   "source": [
    "print (\"Paired two-sample t-test p-value=\", p_value1/2)\n",
    "\n",
    "alpha_level = 0.05\n",
    "\n",
    "if p_value1/2 < alpha_level:\n",
    "    print('We have enough evidence to reject the null hypothesis in favour of alternative hypothesis')\n",
    "    print('We conclude that the difference after joining the program pushup counts has been increased.')\n",
    "else:\n",
    "    print('We do not have enough evidence to reject the null hypothesis in favour of alternative hypothesis')\n",
    "    print('We conclude that the difference after joining the program pushup counts has not been increased.')"
   ]
  },
  {
   "cell_type": "markdown",
   "id": "d63d1c73",
   "metadata": {},
   "source": [
    "We have enough evidence to reject the null hypothesis in favor of alternative hypothesis, so we can conclude that the claim of Aquarius health club training program is unsuccessful, that thecandidates of Aquarius health club fail to do more than 5 push-ups."
   ]
  },
  {
   "cell_type": "markdown",
   "id": "089005fd",
   "metadata": {},
   "source": [
    "### 7. Dental implant data: The hardness of metal implant in dental cavities depends on multiple factors, such as the method of implant, the temperature at which the metal is treated, the alloy used as well as on the dentists who may favour one method above another and may work better in his/her favourite method. The response is the variable of interest."
   ]
  },
  {
   "cell_type": "code",
   "execution_count": 2,
   "id": "71a86180",
   "metadata": {
    "scrolled": true
   },
   "outputs": [
    {
     "data": {
      "text/html": [
       "<div>\n",
       "<style scoped>\n",
       "    .dataframe tbody tr th:only-of-type {\n",
       "        vertical-align: middle;\n",
       "    }\n",
       "\n",
       "    .dataframe tbody tr th {\n",
       "        vertical-align: top;\n",
       "    }\n",
       "\n",
       "    .dataframe thead th {\n",
       "        text-align: right;\n",
       "    }\n",
       "</style>\n",
       "<table border=\"1\" class=\"dataframe\">\n",
       "  <thead>\n",
       "    <tr style=\"text-align: right;\">\n",
       "      <th></th>\n",
       "      <th>Dentist</th>\n",
       "      <th>Method</th>\n",
       "      <th>Alloy</th>\n",
       "      <th>Temp</th>\n",
       "      <th>Response</th>\n",
       "      <th>Unnamed: 5</th>\n",
       "      <th>Unnamed: 6</th>\n",
       "      <th>Unnamed: 7</th>\n",
       "      <th>Unnamed: 8</th>\n",
       "      <th>Unnamed: 9</th>\n",
       "      <th>Unnamed: 10</th>\n",
       "      <th>Unnamed: 11</th>\n",
       "      <th>Unnamed: 12</th>\n",
       "      <th>Unnamed: 13</th>\n",
       "    </tr>\n",
       "  </thead>\n",
       "  <tbody>\n",
       "    <tr>\n",
       "      <th>0</th>\n",
       "      <td>1.0</td>\n",
       "      <td>1.0</td>\n",
       "      <td>1.0</td>\n",
       "      <td>1500.0</td>\n",
       "      <td>813.0</td>\n",
       "      <td>NaN</td>\n",
       "      <td>NaN</td>\n",
       "      <td>Anova: Two-Factor Without Replication</td>\n",
       "      <td>NaN</td>\n",
       "      <td>NaN</td>\n",
       "      <td>NaN</td>\n",
       "      <td>NaN</td>\n",
       "      <td>NaN</td>\n",
       "      <td>NaN</td>\n",
       "    </tr>\n",
       "    <tr>\n",
       "      <th>1</th>\n",
       "      <td>1.0</td>\n",
       "      <td>1.0</td>\n",
       "      <td>1.0</td>\n",
       "      <td>1600.0</td>\n",
       "      <td>792.0</td>\n",
       "      <td>NaN</td>\n",
       "      <td>NaN</td>\n",
       "      <td>NaN</td>\n",
       "      <td>NaN</td>\n",
       "      <td>NaN</td>\n",
       "      <td>NaN</td>\n",
       "      <td>NaN</td>\n",
       "      <td>NaN</td>\n",
       "      <td>NaN</td>\n",
       "    </tr>\n",
       "    <tr>\n",
       "      <th>2</th>\n",
       "      <td>1.0</td>\n",
       "      <td>1.0</td>\n",
       "      <td>1.0</td>\n",
       "      <td>1700.0</td>\n",
       "      <td>792.0</td>\n",
       "      <td>NaN</td>\n",
       "      <td>NaN</td>\n",
       "      <td>SUMMARY</td>\n",
       "      <td>Count</td>\n",
       "      <td>Sum</td>\n",
       "      <td>Average</td>\n",
       "      <td>Variance</td>\n",
       "      <td>NaN</td>\n",
       "      <td>NaN</td>\n",
       "    </tr>\n",
       "    <tr>\n",
       "      <th>3</th>\n",
       "      <td>1.0</td>\n",
       "      <td>1.0</td>\n",
       "      <td>2.0</td>\n",
       "      <td>1500.0</td>\n",
       "      <td>907.0</td>\n",
       "      <td>NaN</td>\n",
       "      <td>NaN</td>\n",
       "      <td>1</td>\n",
       "      <td>4</td>\n",
       "      <td>2315</td>\n",
       "      <td>578.75</td>\n",
       "      <td>523721.583333</td>\n",
       "      <td>NaN</td>\n",
       "      <td>NaN</td>\n",
       "    </tr>\n",
       "    <tr>\n",
       "      <th>4</th>\n",
       "      <td>1.0</td>\n",
       "      <td>1.0</td>\n",
       "      <td>2.0</td>\n",
       "      <td>1600.0</td>\n",
       "      <td>792.0</td>\n",
       "      <td>NaN</td>\n",
       "      <td>NaN</td>\n",
       "      <td>1</td>\n",
       "      <td>4</td>\n",
       "      <td>2394</td>\n",
       "      <td>598.5</td>\n",
       "      <td>584819</td>\n",
       "      <td>NaN</td>\n",
       "      <td>NaN</td>\n",
       "    </tr>\n",
       "  </tbody>\n",
       "</table>\n",
       "</div>"
      ],
      "text/plain": [
       "   Dentist  Method  Alloy    Temp  Response  Unnamed: 5  Unnamed: 6  \\\n",
       "0      1.0     1.0    1.0  1500.0     813.0         NaN         NaN   \n",
       "1      1.0     1.0    1.0  1600.0     792.0         NaN         NaN   \n",
       "2      1.0     1.0    1.0  1700.0     792.0         NaN         NaN   \n",
       "3      1.0     1.0    2.0  1500.0     907.0         NaN         NaN   \n",
       "4      1.0     1.0    2.0  1600.0     792.0         NaN         NaN   \n",
       "\n",
       "                              Unnamed: 7 Unnamed: 8 Unnamed: 9 Unnamed: 10  \\\n",
       "0  Anova: Two-Factor Without Replication        NaN        NaN         NaN   \n",
       "1                                    NaN        NaN        NaN         NaN   \n",
       "2                                SUMMARY      Count        Sum     Average   \n",
       "3                                      1          4       2315      578.75   \n",
       "4                                      1          4       2394       598.5   \n",
       "\n",
       "     Unnamed: 11 Unnamed: 12 Unnamed: 13  \n",
       "0            NaN         NaN         NaN  \n",
       "1            NaN         NaN         NaN  \n",
       "2       Variance         NaN         NaN  \n",
       "3  523721.583333         NaN         NaN  \n",
       "4         584819         NaN         NaN  "
      ]
     },
     "execution_count": 2,
     "metadata": {},
     "output_type": "execute_result"
    }
   ],
   "source": [
    "dset=pd.read_excel(\"Dental Hardness data.xlsx\")\n",
    "dset.head()"
   ]
  },
  {
   "cell_type": "code",
   "execution_count": 34,
   "id": "1f9012a4",
   "metadata": {},
   "outputs": [
    {
     "name": "stdout",
     "output_type": "stream",
     "text": [
      "<class 'pandas.core.frame.DataFrame'>\n",
      "RangeIndex: 107 entries, 0 to 106\n",
      "Data columns (total 14 columns):\n",
      " #   Column       Non-Null Count  Dtype  \n",
      "---  ------       --------------  -----  \n",
      " 0   Dentist      90 non-null     float64\n",
      " 1   Method       90 non-null     float64\n",
      " 2   Alloy        90 non-null     float64\n",
      " 3   Temp         90 non-null     float64\n",
      " 4   Response     90 non-null     float64\n",
      " 5   Unnamed: 5   0 non-null      float64\n",
      " 6   Unnamed: 6   0 non-null      float64\n",
      " 7   Unnamed: 7   102 non-null    object \n",
      " 8   Unnamed: 8   100 non-null    object \n",
      " 9   Unnamed: 9   100 non-null    object \n",
      " 10  Unnamed: 10  99 non-null     object \n",
      " 11  Unnamed: 11  98 non-null     object \n",
      " 12  Unnamed: 12  3 non-null      object \n",
      " 13  Unnamed: 13  3 non-null      object \n",
      "dtypes: float64(7), object(7)\n",
      "memory usage: 11.8+ KB\n"
     ]
    }
   ],
   "source": [
    "dset.info()"
   ]
  },
  {
   "cell_type": "code",
   "execution_count": 41,
   "id": "f9a32a5a",
   "metadata": {},
   "outputs": [
    {
     "data": {
      "text/html": [
       "<div>\n",
       "<style scoped>\n",
       "    .dataframe tbody tr th:only-of-type {\n",
       "        vertical-align: middle;\n",
       "    }\n",
       "\n",
       "    .dataframe tbody tr th {\n",
       "        vertical-align: top;\n",
       "    }\n",
       "\n",
       "    .dataframe thead th {\n",
       "        text-align: right;\n",
       "    }\n",
       "</style>\n",
       "<table border=\"1\" class=\"dataframe\">\n",
       "  <thead>\n",
       "    <tr style=\"text-align: right;\">\n",
       "      <th></th>\n",
       "      <th>Dentist</th>\n",
       "      <th>Method</th>\n",
       "      <th>Alloy</th>\n",
       "      <th>Temp</th>\n",
       "      <th>Response</th>\n",
       "      <th>Unnamed: 5</th>\n",
       "      <th>Unnamed: 6</th>\n",
       "    </tr>\n",
       "  </thead>\n",
       "  <tbody>\n",
       "    <tr>\n",
       "      <th>count</th>\n",
       "      <td>90.000000</td>\n",
       "      <td>90.000000</td>\n",
       "      <td>90.000000</td>\n",
       "      <td>90.000000</td>\n",
       "      <td>90.000000</td>\n",
       "      <td>0.0</td>\n",
       "      <td>0.0</td>\n",
       "    </tr>\n",
       "    <tr>\n",
       "      <th>mean</th>\n",
       "      <td>3.000000</td>\n",
       "      <td>2.000000</td>\n",
       "      <td>1.500000</td>\n",
       "      <td>1600.000000</td>\n",
       "      <td>741.777778</td>\n",
       "      <td>NaN</td>\n",
       "      <td>NaN</td>\n",
       "    </tr>\n",
       "    <tr>\n",
       "      <th>std</th>\n",
       "      <td>1.422136</td>\n",
       "      <td>0.821071</td>\n",
       "      <td>0.502801</td>\n",
       "      <td>82.107083</td>\n",
       "      <td>145.767845</td>\n",
       "      <td>NaN</td>\n",
       "      <td>NaN</td>\n",
       "    </tr>\n",
       "    <tr>\n",
       "      <th>min</th>\n",
       "      <td>1.000000</td>\n",
       "      <td>1.000000</td>\n",
       "      <td>1.000000</td>\n",
       "      <td>1500.000000</td>\n",
       "      <td>289.000000</td>\n",
       "      <td>NaN</td>\n",
       "      <td>NaN</td>\n",
       "    </tr>\n",
       "    <tr>\n",
       "      <th>25%</th>\n",
       "      <td>2.000000</td>\n",
       "      <td>1.000000</td>\n",
       "      <td>1.000000</td>\n",
       "      <td>1500.000000</td>\n",
       "      <td>698.000000</td>\n",
       "      <td>NaN</td>\n",
       "      <td>NaN</td>\n",
       "    </tr>\n",
       "    <tr>\n",
       "      <th>50%</th>\n",
       "      <td>3.000000</td>\n",
       "      <td>2.000000</td>\n",
       "      <td>1.500000</td>\n",
       "      <td>1600.000000</td>\n",
       "      <td>767.000000</td>\n",
       "      <td>NaN</td>\n",
       "      <td>NaN</td>\n",
       "    </tr>\n",
       "    <tr>\n",
       "      <th>75%</th>\n",
       "      <td>4.000000</td>\n",
       "      <td>3.000000</td>\n",
       "      <td>2.000000</td>\n",
       "      <td>1700.000000</td>\n",
       "      <td>824.000000</td>\n",
       "      <td>NaN</td>\n",
       "      <td>NaN</td>\n",
       "    </tr>\n",
       "    <tr>\n",
       "      <th>max</th>\n",
       "      <td>5.000000</td>\n",
       "      <td>3.000000</td>\n",
       "      <td>2.000000</td>\n",
       "      <td>1700.000000</td>\n",
       "      <td>1115.000000</td>\n",
       "      <td>NaN</td>\n",
       "      <td>NaN</td>\n",
       "    </tr>\n",
       "  </tbody>\n",
       "</table>\n",
       "</div>"
      ],
      "text/plain": [
       "         Dentist     Method      Alloy         Temp     Response  Unnamed: 5  \\\n",
       "count  90.000000  90.000000  90.000000    90.000000    90.000000         0.0   \n",
       "mean    3.000000   2.000000   1.500000  1600.000000   741.777778         NaN   \n",
       "std     1.422136   0.821071   0.502801    82.107083   145.767845         NaN   \n",
       "min     1.000000   1.000000   1.000000  1500.000000   289.000000         NaN   \n",
       "25%     2.000000   1.000000   1.000000  1500.000000   698.000000         NaN   \n",
       "50%     3.000000   2.000000   1.500000  1600.000000   767.000000         NaN   \n",
       "75%     4.000000   3.000000   2.000000  1700.000000   824.000000         NaN   \n",
       "max     5.000000   3.000000   2.000000  1700.000000  1115.000000         NaN   \n",
       "\n",
       "       Unnamed: 6  \n",
       "count         0.0  \n",
       "mean          NaN  \n",
       "std           NaN  \n",
       "min           NaN  \n",
       "25%           NaN  \n",
       "50%           NaN  \n",
       "75%           NaN  \n",
       "max           NaN  "
      ]
     },
     "execution_count": 41,
     "metadata": {},
     "output_type": "execute_result"
    }
   ],
   "source": [
    "dset.describe()"
   ]
  },
  {
   "cell_type": "code",
   "execution_count": 5,
   "id": "d1c79a3f",
   "metadata": {},
   "outputs": [
    {
     "data": {
      "text/plain": [
       "(107, 14)"
      ]
     },
     "execution_count": 5,
     "metadata": {},
     "output_type": "execute_result"
    }
   ],
   "source": [
    "dset.shape"
   ]
  },
  {
   "cell_type": "code",
   "execution_count": 7,
   "id": "1888ee1d",
   "metadata": {},
   "outputs": [],
   "source": [
    "dset['Dentist']= pd.Categorical(dset['Dentist'])\n",
    "dset['Method']= pd.Categorical(dset['Method'])\n",
    "dset['Alloy']= pd.Categorical(dset['Alloy'])\n",
    "dset['Temp']= pd.Categorical(dset['Temp'])"
   ]
  },
  {
   "cell_type": "markdown",
   "id": "b59d8723",
   "metadata": {},
   "source": [
    "### 7.1 Test whether there is any difference among the dentists on the implant hardness. State the null and alternative hypotheses. Note that both types of alloys cannot be considered together. You must state the null and alternative hypotheses separately for the two types of alloys.?"
   ]
  },
  {
   "cell_type": "markdown",
   "id": "ce27055e",
   "metadata": {},
   "source": [
    "##### The hypotheses for the one way anova\n",
    "\n",
    "\n",
    "H0: The mean response is same for both the alloys.\n",
    "\n",
    "Ha: The mean response is not same for both the alloys."
   ]
  },
  {
   "cell_type": "code",
   "execution_count": 6,
   "id": "f377f99e",
   "metadata": {},
   "outputs": [
    {
     "data": {
      "text/html": [
       "<div>\n",
       "<style scoped>\n",
       "    .dataframe tbody tr th:only-of-type {\n",
       "        vertical-align: middle;\n",
       "    }\n",
       "\n",
       "    .dataframe tbody tr th {\n",
       "        vertical-align: top;\n",
       "    }\n",
       "\n",
       "    .dataframe thead th {\n",
       "        text-align: right;\n",
       "    }\n",
       "</style>\n",
       "<table border=\"1\" class=\"dataframe\">\n",
       "  <thead>\n",
       "    <tr style=\"text-align: right;\">\n",
       "      <th></th>\n",
       "      <th>df</th>\n",
       "      <th>sum_sq</th>\n",
       "      <th>mean_sq</th>\n",
       "      <th>F</th>\n",
       "      <th>PR(&gt;F)</th>\n",
       "    </tr>\n",
       "  </thead>\n",
       "  <tbody>\n",
       "    <tr>\n",
       "      <th>C(Dentist)</th>\n",
       "      <td>4.0</td>\n",
       "      <td>7.884522e+04</td>\n",
       "      <td>19711.305556</td>\n",
       "      <td>1.496761</td>\n",
       "      <td>0.210408</td>\n",
       "    </tr>\n",
       "    <tr>\n",
       "      <th>Residual</th>\n",
       "      <td>85.0</td>\n",
       "      <td>1.119391e+06</td>\n",
       "      <td>13169.309150</td>\n",
       "      <td>NaN</td>\n",
       "      <td>NaN</td>\n",
       "    </tr>\n",
       "  </tbody>\n",
       "</table>\n",
       "</div>"
      ],
      "text/plain": [
       "              df        sum_sq       mean_sq         F    PR(>F)\n",
       "C(Dentist)   4.0  7.884522e+04  19711.305556  1.496761  0.210408\n",
       "Residual    85.0  1.119391e+06  13169.309150       NaN       NaN"
      ]
     },
     "execution_count": 6,
     "metadata": {},
     "output_type": "execute_result"
    }
   ],
   "source": [
    "formula='Response ~ C(Dentist)'\n",
    "model=ols(formula,dset).fit()\n",
    "aov_table=anova_lm(model)\n",
    "aov_table"
   ]
  },
  {
   "cell_type": "markdown",
   "id": "54da2de0",
   "metadata": {},
   "source": [
    "P_value is greater than alpha which is 0.05, thus we fail to reject the null hypotheses."
   ]
  },
  {
   "cell_type": "markdown",
   "id": "9aa41f1e",
   "metadata": {},
   "source": [
    "### 7.2 Before the hypotheses may be tested, state the required assumptions. Are the assumptions fulfilled? Comment separately on both alloy types.?"
   ]
  },
  {
   "cell_type": "markdown",
   "id": "3f987c84",
   "metadata": {},
   "source": [
    "##### Assumptions:\n",
    "    1. Response variable of all population are continious and normally distributed.\n",
    "    2. There should be no significance outliers.\n",
    "    3. Number of observation is same for both.\n",
    "    4. The sample data is independent."
   ]
  },
  {
   "cell_type": "code",
   "execution_count": 37,
   "id": "66d66d88",
   "metadata": {},
   "outputs": [
    {
     "data": {
      "image/png": "[encoded data removed]",
      "text/plain": [
       "<Figure size 1800x1296 with 9 Axes>"
      ]
     },
     "metadata": {
      "needs_background": "light"
     },
     "output_type": "display_data"
    }
   ],
   "source": [
    "### checking variables are normally distributed.\n",
    "\n",
    "dset.hist(figsize=(25,18))\n",
    "plt.show()"
   ]
  },
  {
   "cell_type": "code",
   "execution_count": 43,
   "id": "dd9342da",
   "metadata": {},
   "outputs": [
    {
     "name": "stderr",
     "output_type": "stream",
     "text": [
      "C:\\Users\\2261092\\Anaconda3\\lib\\site-packages\\seaborn\\_decorators.py:36: FutureWarning: Pass the following variable as a keyword arg: x. From version 0.12, the only valid positional argument will be `data`, and passing other arguments without an explicit keyword will result in an error or misinterpretation.\n",
      "  warnings.warn(\n"
     ]
    },
    {
     "data": {
      "text/plain": [
       "<AxesSubplot:xlabel='Dentist'>"
      ]
     },
     "execution_count": 43,
     "metadata": {},
     "output_type": "execute_result"
    },
    {
     "data": {
      "image/png": "[encoded data removed]",
      "text/plain": [
       "<Figure size 432x288 with 1 Axes>"
      ]
     },
     "metadata": {
      "needs_background": "light"
     },
     "output_type": "display_data"
    }
   ],
   "source": [
    "### checking outliers \n",
    "\n",
    "sns.boxplot(dset.Dentist)"
   ]
  },
  {
   "cell_type": "code",
   "execution_count": 45,
   "id": "165ce66b",
   "metadata": {},
   "outputs": [
    {
     "name": "stderr",
     "output_type": "stream",
     "text": [
      "C:\\Users\\2261092\\Anaconda3\\lib\\site-packages\\seaborn\\_decorators.py:36: FutureWarning: Pass the following variable as a keyword arg: x. From version 0.12, the only valid positional argument will be `data`, and passing other arguments without an explicit keyword will result in an error or misinterpretation.\n",
      "  warnings.warn(\n"
     ]
    },
    {
     "data": {
      "text/plain": [
       "<AxesSubplot:xlabel='Method'>"
      ]
     },
     "execution_count": 45,
     "metadata": {},
     "output_type": "execute_result"
    },
    {
     "data": {
      "image/png": "[encoded data removed]",
      "text/plain": [
       "<Figure size 432x288 with 1 Axes>"
      ]
     },
     "metadata": {
      "needs_background": "light"
     },
     "output_type": "display_data"
    }
   ],
   "source": [
    "sns.boxplot(dset.Method)"
   ]
  },
  {
   "cell_type": "code",
   "execution_count": 47,
   "id": "2cedb851",
   "metadata": {},
   "outputs": [
    {
     "name": "stderr",
     "output_type": "stream",
     "text": [
      "C:\\Users\\2261092\\Anaconda3\\lib\\site-packages\\seaborn\\_decorators.py:36: FutureWarning: Pass the following variable as a keyword arg: x. From version 0.12, the only valid positional argument will be `data`, and passing other arguments without an explicit keyword will result in an error or misinterpretation.\n",
      "  warnings.warn(\n"
     ]
    },
    {
     "data": {
      "text/plain": [
       "<AxesSubplot:xlabel='Alloy'>"
      ]
     },
     "execution_count": 47,
     "metadata": {},
     "output_type": "execute_result"
    },
    {
     "data": {
      "image/png": "[encoded data removed]",
      "text/plain": [
       "<Figure size 432x288 with 1 Axes>"
      ]
     },
     "metadata": {
      "needs_background": "light"
     },
     "output_type": "display_data"
    }
   ],
   "source": [
    "sns.boxplot(dset.Alloy)"
   ]
  },
  {
   "cell_type": "code",
   "execution_count": 48,
   "id": "635c9017",
   "metadata": {},
   "outputs": [
    {
     "name": "stderr",
     "output_type": "stream",
     "text": [
      "C:\\Users\\2261092\\Anaconda3\\lib\\site-packages\\seaborn\\_decorators.py:36: FutureWarning: Pass the following variable as a keyword arg: x. From version 0.12, the only valid positional argument will be `data`, and passing other arguments without an explicit keyword will result in an error or misinterpretation.\n",
      "  warnings.warn(\n"
     ]
    },
    {
     "data": {
      "text/plain": [
       "<AxesSubplot:xlabel='Temp'>"
      ]
     },
     "execution_count": 48,
     "metadata": {},
     "output_type": "execute_result"
    },
    {
     "data": {
      "image/png": "[encoded data removed]",
      "text/plain": [
       "<Figure size 432x288 with 1 Axes>"
      ]
     },
     "metadata": {
      "needs_background": "light"
     },
     "output_type": "display_data"
    }
   ],
   "source": [
    "sns.boxplot(dset.Temp)"
   ]
  },
  {
   "cell_type": "code",
   "execution_count": 50,
   "id": "96ed2b9e",
   "metadata": {},
   "outputs": [
    {
     "name": "stderr",
     "output_type": "stream",
     "text": [
      "C:\\Users\\2261092\\Anaconda3\\lib\\site-packages\\seaborn\\_decorators.py:36: FutureWarning: Pass the following variable as a keyword arg: x. From version 0.12, the only valid positional argument will be `data`, and passing other arguments without an explicit keyword will result in an error or misinterpretation.\n",
      "  warnings.warn(\n"
     ]
    },
    {
     "data": {
      "text/plain": [
       "<AxesSubplot:xlabel='Response'>"
      ]
     },
     "execution_count": 50,
     "metadata": {},
     "output_type": "execute_result"
    },
    {
     "data": {
      "image/png": "[encoded data removed]",
      "text/plain": [
       "<Figure size 432x288 with 1 Axes>"
      ]
     },
     "metadata": {
      "needs_background": "light"
     },
     "output_type": "display_data"
    }
   ],
   "source": [
    "sns.boxplot(dset.Response)"
   ]
  },
  {
   "cell_type": "code",
   "execution_count": 4,
   "id": "22c54155",
   "metadata": {},
   "outputs": [],
   "source": [
    "### removing ouliers:\n",
    "def remove_outliers(col):\n",
    "    sorted(col)\n",
    "    Q1,Q3=col.quantile([0.25,0.75])\n",
    "    IQR=Q3-Q1\n",
    "    lower=Q1-(1.5*IQR)\n",
    "    upper=Q3+(1.5*IQR)\n",
    "    return lower, upper"
   ]
  },
  {
   "cell_type": "code",
   "execution_count": 5,
   "id": "0584a38a",
   "metadata": {},
   "outputs": [],
   "source": [
    "lower_res,upper_res=remove_outliers(dset[\"Response\"])\n",
    "dset[\"Response\"]=np.where(dset[\"Response\"]>upper_res,upper_res,dset[\"Response\"])\n",
    "dset[\"Response\"]=np.where(dset[\"Response\"]<lower_res,lower_res,dset[\"Response\"])"
   ]
  },
  {
   "cell_type": "code",
   "execution_count": 6,
   "id": "8d395f87",
   "metadata": {
    "scrolled": true
   },
   "outputs": [
    {
     "name": "stderr",
     "output_type": "stream",
     "text": [
      "C:\\Users\\2261092\\Anaconda3\\lib\\site-packages\\seaborn\\_decorators.py:36: FutureWarning: Pass the following variable as a keyword arg: x. From version 0.12, the only valid positional argument will be `data`, and passing other arguments without an explicit keyword will result in an error or misinterpretation.\n",
      "  warnings.warn(\n"
     ]
    },
    {
     "data": {
      "text/plain": [
       "<AxesSubplot:xlabel='Response'>"
      ]
     },
     "execution_count": 6,
     "metadata": {},
     "output_type": "execute_result"
    },
    {
     "data": {
      "image/png": "[encoded data removed]",
      "text/plain": [
       "<Figure size 432x288 with 1 Axes>"
      ]
     },
     "metadata": {
      "needs_background": "light"
     },
     "output_type": "display_data"
    }
   ],
   "source": [
    "sns.boxplot(dset.Response)"
   ]
  },
  {
   "cell_type": "code",
   "execution_count": 7,
   "id": "1dfdc14c",
   "metadata": {},
   "outputs": [],
   "source": [
    "### changing numerical variable to categorical variable\n",
    "dset[\"Dentist\"]=pd.Categorical(dset[\"Dentist\"])\n",
    "dset[\"Method\"]=pd.Categorical(dset[\"Method\"])\n",
    "dset[\"Alloy\"]=pd.Categorical(dset[\"Alloy\"])\n",
    "dset[\"Temp\"]=pd.Categorical(dset[\"Temp\"])"
   ]
  },
  {
   "cell_type": "code",
   "execution_count": 9,
   "id": "1b9fe7c8",
   "metadata": {},
   "outputs": [],
   "source": [
    "#forming subcategories\n",
    "Dentist_1=dset[dset[\"Dentist\"]==1][\"Response\"]\n",
    "Dentist_2=dset[dset[\"Dentist\"]==2][\"Response\"]\n",
    "Dentist_3=dset[dset[\"Dentist\"]==3][\"Response\"]\n",
    "Dentist_4=dset[dset[\"Dentist\"]==4][\"Response\"]\n",
    "Dentist_5=dset[dset[\"Dentist\"]==5][\"Response\"]\n",
    "\n",
    "Method_1=dset[dset[\"Method\"]==1][\"Response\"]\n",
    "Method_2=dset[dset[\"Method\"]==2][\"Response\"]\n",
    "Method_3=dset[dset[\"Method\"]==3][\"Response\"]\n",
    "\n",
    "Alloy_1=dset[dset[\"Method\"]==1][\"Response\"]\n",
    "Alloy_2=dset[dset[\"Method\"]==2][\"Response\"]\n",
    "Alloy_3=dset[dset[\"Method\"]==3][\"Response\"]\n",
    "\n",
    "Temp_1=dset[dset[\"Temp\"]==1500][\"Response\"]\n",
    "Temp_2=dset[dset[\"Temp\"]==1600][\"Response\"]\n",
    "Temp_3=dset[dset[\"Temp\"]==1700][\"Response\"]"
   ]
  },
  {
   "cell_type": "code",
   "execution_count": 12,
   "id": "911f677f",
   "metadata": {
    "scrolled": true
   },
   "outputs": [
    {
     "name": "stdout",
     "output_type": "stream",
     "text": [
      "ShapiroResult(statistic=0.9512531161308289, pvalue=0.4450126886367798)\n",
      "ShapiroResult(statistic=0.9665580987930298, pvalue=0.731051504611969)\n",
      "ShapiroResult(statistic=0.9573881030082703, pvalue=0.5520960092544556)\n",
      "\n",
      "\n",
      "ShapiroResult(statistic=0.9796932339668274, pvalue=0.8173373937606812)\n",
      "ShapiroResult(statistic=0.9809848666191101, pvalue=0.8510975241661072)\n",
      "ShapiroResult(statistic=0.8871709704399109, pvalue=0.004136798437684774)\n",
      "\n",
      "\n",
      "ShapiroResult(statistic=0.9796932339668274, pvalue=0.8173373937606812)\n",
      "ShapiroResult(statistic=0.9809848666191101, pvalue=0.8510975241661072)\n",
      "ShapiroResult(statistic=0.8871709704399109, pvalue=0.004136798437684774)\n",
      "\n",
      "\n",
      "ShapiroResult(statistic=0.9331822395324707, pvalue=0.0596865713596344)\n",
      "ShapiroResult(statistic=0.9791679382324219, pvalue=0.8030202984809875)\n",
      "ShapiroResult(statistic=0.9185514450073242, pvalue=0.02460181713104248)\n"
     ]
    }
   ],
   "source": [
    "### checking normalcy\n",
    "### The shapiro-wilk test for checking the normalcy.\n",
    "print(stats.shapiro([Dentist_1]))\n",
    "print(stats.shapiro([Dentist_2]))\n",
    "print(stats.shapiro([Dentist_3]))\n",
    "\n",
    "print('\\n')\n",
    "print(stats.shapiro([Method_1]))\n",
    "print(stats.shapiro([Method_2]))\n",
    "print(stats.shapiro([Method_3]))\n",
    "\n",
    "print('\\n')\n",
    "print(stats.shapiro([Alloy_1]))\n",
    "print(stats.shapiro([Alloy_2]))\n",
    "print(stats.shapiro([Alloy_3]))\n",
    "\n",
    "print('\\n')\n",
    "print(stats.shapiro([Temp_1]))\n",
    "print(stats.shapiro([Temp_2]))\n",
    "print(stats.shapiro([Temp_3]))"
   ]
  },
  {
   "cell_type": "code",
   "execution_count": 13,
   "id": "5dda2191",
   "metadata": {},
   "outputs": [
    {
     "name": "stdout",
     "output_type": "stream",
     "text": [
      "LeveneResult(statistic=1.3736027902703822, pvalue=0.26240029040554935)\n",
      "LeveneResult(statistic=3.5342167607107005, pvalue=0.03344085077476839)\n",
      "LeveneResult(statistic=0.010740773617305252, pvalue=0.9178143963942805)\n",
      "LeveneResult(statistic=0.11898237456285736, pvalue=0.887967666035956)\n"
     ]
    }
   ],
   "source": [
    "### checking homogeniety\n",
    "### Levene test\n",
    "### alpha_value = 0.05\n",
    "print(stats.levene(Dentist_1,Dentist_2,Dentist_3))\n",
    "print(stats.levene(Method_1,Method_2,Method_3))\n",
    "print(stats.levene(Alloy_1,Alloy_2))\n",
    "print(stats.levene(Temp_1,Temp_2,Temp_3))"
   ]
  },
  {
   "cell_type": "markdown",
   "id": "6dff1779",
   "metadata": {},
   "source": [
    "### 7.3 Irrespective of your conclusion in 7.2, we will continue with the testing procedure. What do you conclude regarding whether implant hardness depends on dentists? Clearly state your conclusion. If the null hypothesis is rejected, is it possible to identify which pairs of dentists differ?"
   ]
  },
  {
   "cell_type": "code",
   "execution_count": 32,
   "id": "10004a21",
   "metadata": {},
   "outputs": [
    {
     "data": {
      "text/html": [
       "<div>\n",
       "<style scoped>\n",
       "    .dataframe tbody tr th:only-of-type {\n",
       "        vertical-align: middle;\n",
       "    }\n",
       "\n",
       "    .dataframe tbody tr th {\n",
       "        vertical-align: top;\n",
       "    }\n",
       "\n",
       "    .dataframe thead th {\n",
       "        text-align: right;\n",
       "    }\n",
       "</style>\n",
       "<table border=\"1\" class=\"dataframe\">\n",
       "  <thead>\n",
       "    <tr style=\"text-align: right;\">\n",
       "      <th></th>\n",
       "      <th>df</th>\n",
       "      <th>sum_sq</th>\n",
       "      <th>mean_sq</th>\n",
       "      <th>F</th>\n",
       "      <th>PR(&gt;F)</th>\n",
       "    </tr>\n",
       "  </thead>\n",
       "  <tbody>\n",
       "    <tr>\n",
       "      <th>C(Dentist)</th>\n",
       "      <td>4.0</td>\n",
       "      <td>7.884522e+04</td>\n",
       "      <td>19711.305556</td>\n",
       "      <td>1.496761</td>\n",
       "      <td>0.210408</td>\n",
       "    </tr>\n",
       "    <tr>\n",
       "      <th>Residual</th>\n",
       "      <td>85.0</td>\n",
       "      <td>1.119391e+06</td>\n",
       "      <td>13169.309150</td>\n",
       "      <td>NaN</td>\n",
       "      <td>NaN</td>\n",
       "    </tr>\n",
       "  </tbody>\n",
       "</table>\n",
       "</div>"
      ],
      "text/plain": [
       "              df        sum_sq       mean_sq         F    PR(>F)\n",
       "C(Dentist)   4.0  7.884522e+04  19711.305556  1.496761  0.210408\n",
       "Residual    85.0  1.119391e+06  13169.309150       NaN       NaN"
      ]
     },
     "execution_count": 32,
     "metadata": {},
     "output_type": "execute_result"
    }
   ],
   "source": [
    "formula='Response ~ C(Dentist)'\n",
    "model=ols(formula,dset).fit()\n",
    "aov_table=anova_lm(model)\n",
    "aov_table"
   ]
  },
  {
   "cell_type": "code",
   "execution_count": 73,
   "id": "af8b6a98",
   "metadata": {
    "scrolled": true
   },
   "outputs": [
    {
     "data": {
      "text/plain": [
       "<AxesSubplot:xlabel='Dentist', ylabel='Response'>"
      ]
     },
     "execution_count": 73,
     "metadata": {},
     "output_type": "execute_result"
    },
    {
     "data": {
      "image/png": "[encoded data removed]",
      "text/plain": [
       "<Figure size 432x288 with 1 Axes>"
      ]
     },
     "metadata": {
      "needs_background": "light"
     },
     "output_type": "display_data"
    }
   ],
   "source": [
    "sns.pointplot(x=\"Dentist\",y=\"Response\",data=dset,ci=None)"
   ]
  },
  {
   "cell_type": "markdown",
   "id": "5370b106",
   "metadata": {},
   "source": [
    "### 7.4 Now test whether there is any difference among the methods on the hardness of dental implant, separately for the two types of alloys. What are your conclusions? If the null hypothesis is rejected, is it possible to identify which pairs of methods differ?"
   ]
  },
  {
   "cell_type": "code",
   "execution_count": 74,
   "id": "5e9b0bfa",
   "metadata": {
    "scrolled": true
   },
   "outputs": [
    {
     "data": {
      "text/html": [
       "<div>\n",
       "<style scoped>\n",
       "    .dataframe tbody tr th:only-of-type {\n",
       "        vertical-align: middle;\n",
       "    }\n",
       "\n",
       "    .dataframe tbody tr th {\n",
       "        vertical-align: top;\n",
       "    }\n",
       "\n",
       "    .dataframe thead th {\n",
       "        text-align: right;\n",
       "    }\n",
       "</style>\n",
       "<table border=\"1\" class=\"dataframe\">\n",
       "  <thead>\n",
       "    <tr style=\"text-align: right;\">\n",
       "      <th></th>\n",
       "      <th>df</th>\n",
       "      <th>sum_sq</th>\n",
       "      <th>mean_sq</th>\n",
       "      <th>F</th>\n",
       "      <th>PR(&gt;F)</th>\n",
       "    </tr>\n",
       "  </thead>\n",
       "  <tbody>\n",
       "    <tr>\n",
       "      <th>C(Method)</th>\n",
       "      <td>2.0</td>\n",
       "      <td>5.934275e+05</td>\n",
       "      <td>296713.744444</td>\n",
       "      <td>21.917576</td>\n",
       "      <td>2.189867e-08</td>\n",
       "    </tr>\n",
       "    <tr>\n",
       "      <th>C(Alloy)</th>\n",
       "      <td>1.0</td>\n",
       "      <td>1.058155e+05</td>\n",
       "      <td>105815.511111</td>\n",
       "      <td>7.816354</td>\n",
       "      <td>6.415387e-03</td>\n",
       "    </tr>\n",
       "    <tr>\n",
       "      <th>C(Method):C(Alloy)</th>\n",
       "      <td>2.0</td>\n",
       "      <td>5.468509e+04</td>\n",
       "      <td>27342.544444</td>\n",
       "      <td>2.019732</td>\n",
       "      <td>1.390848e-01</td>\n",
       "    </tr>\n",
       "    <tr>\n",
       "      <th>Residual</th>\n",
       "      <td>84.0</td>\n",
       "      <td>1.137167e+06</td>\n",
       "      <td>13537.707937</td>\n",
       "      <td>NaN</td>\n",
       "      <td>NaN</td>\n",
       "    </tr>\n",
       "  </tbody>\n",
       "</table>\n",
       "</div>"
      ],
      "text/plain": [
       "                      df        sum_sq        mean_sq          F        PR(>F)\n",
       "C(Method)            2.0  5.934275e+05  296713.744444  21.917576  2.189867e-08\n",
       "C(Alloy)             1.0  1.058155e+05  105815.511111   7.816354  6.415387e-03\n",
       "C(Method):C(Alloy)   2.0  5.468509e+04   27342.544444   2.019732  1.390848e-01\n",
       "Residual            84.0  1.137167e+06   13537.707937        NaN           NaN"
      ]
     },
     "execution_count": 74,
     "metadata": {},
     "output_type": "execute_result"
    }
   ],
   "source": [
    "formula='Response ~ C(Method) + C(Alloy) +C(Method): C(Alloy)'\n",
    "model=ols(formula,dset).fit()\n",
    "aov_table=anova_lm(model)\n",
    "aov_table"
   ]
  },
  {
   "cell_type": "code",
   "execution_count": 8,
   "id": "7ba5d533",
   "metadata": {},
   "outputs": [
    {
     "data": {
      "text/plain": [
       "<AxesSubplot:xlabel='Method', ylabel='Response'>"
      ]
     },
     "execution_count": 8,
     "metadata": {},
     "output_type": "execute_result"
    },
    {
     "data": {
      "image/png": "[encoded data removed]",
      "text/plain": [
       "<Figure size 432x288 with 1 Axes>"
      ]
     },
     "metadata": {
      "needs_background": "light"
     },
     "output_type": "display_data"
    }
   ],
   "source": [
    "sns.pointplot(x=\"Method\", y=\"Response\", data=dset, hue=\"Alloy\", ci=None)"
   ]
  },
  {
   "cell_type": "code",
   "execution_count": 37,
   "id": "2b797e0c",
   "metadata": {
    "scrolled": true
   },
   "outputs": [
    {
     "data": {
      "text/plain": [
       "<AxesSubplot:xlabel='Alloy', ylabel='Response'>"
      ]
     },
     "execution_count": 37,
     "metadata": {},
     "output_type": "execute_result"
    },
    {
     "data": {
      "image/png": "[encoded data removed]",
      "text/plain": [
       "<Figure size 432x288 with 1 Axes>"
      ]
     },
     "metadata": {
      "needs_background": "light"
     },
     "output_type": "display_data"
    }
   ],
   "source": [
    "sns.pointplot(x=\"Alloy\", y=\"Response\", data=dset, hue=\"Method\", ci=None)"
   ]
  },
  {
   "cell_type": "markdown",
   "id": "658a9bb6",
   "metadata": {},
   "source": [
    "Since p-value is significantly less than alpha = 0.05, there is sufficient evidence against the null hypotheses that all methods have equal impact on hardness.so we can reject null hypotheses in that scenerio."
   ]
  },
  {
   "cell_type": "markdown",
   "id": "78da6899",
   "metadata": {},
   "source": [
    "### 7.5 Now test whether there is any difference among the temperature levels on the hardness of dental implant, separately for the two types of alloys. What are your conclusions? If the null hypothesis is rejected, is it possible to identify which levels of temperatures differ?"
   ]
  },
  {
   "cell_type": "code",
   "execution_count": 13,
   "id": "4397474d",
   "metadata": {},
   "outputs": [
    {
     "data": {
      "text/html": [
       "<div>\n",
       "<style scoped>\n",
       "    .dataframe tbody tr th:only-of-type {\n",
       "        vertical-align: middle;\n",
       "    }\n",
       "\n",
       "    .dataframe tbody tr th {\n",
       "        vertical-align: top;\n",
       "    }\n",
       "\n",
       "    .dataframe thead th {\n",
       "        text-align: right;\n",
       "    }\n",
       "</style>\n",
       "<table border=\"1\" class=\"dataframe\">\n",
       "  <thead>\n",
       "    <tr style=\"text-align: right;\">\n",
       "      <th></th>\n",
       "      <th>df</th>\n",
       "      <th>sum_sq</th>\n",
       "      <th>mean_sq</th>\n",
       "      <th>F</th>\n",
       "      <th>PR(&gt;F)</th>\n",
       "    </tr>\n",
       "  </thead>\n",
       "  <tbody>\n",
       "    <tr>\n",
       "      <th>C(Temp)</th>\n",
       "      <td>2.0</td>\n",
       "      <td>3.546060e+04</td>\n",
       "      <td>17730.300000</td>\n",
       "      <td>1.421276</td>\n",
       "      <td>0.247151</td>\n",
       "    </tr>\n",
       "    <tr>\n",
       "      <th>C(Alloy)</th>\n",
       "      <td>1.0</td>\n",
       "      <td>9.953388e+04</td>\n",
       "      <td>99533.877778</td>\n",
       "      <td>7.978719</td>\n",
       "      <td>0.005911</td>\n",
       "    </tr>\n",
       "    <tr>\n",
       "      <th>C(Temp):C(Alloy)</th>\n",
       "      <td>2.0</td>\n",
       "      <td>1.534882e+04</td>\n",
       "      <td>7674.411111</td>\n",
       "      <td>0.615187</td>\n",
       "      <td>0.542957</td>\n",
       "    </tr>\n",
       "    <tr>\n",
       "      <th>Residual</th>\n",
       "      <td>84.0</td>\n",
       "      <td>1.047893e+06</td>\n",
       "      <td>12474.919048</td>\n",
       "      <td>NaN</td>\n",
       "      <td>NaN</td>\n",
       "    </tr>\n",
       "  </tbody>\n",
       "</table>\n",
       "</div>"
      ],
      "text/plain": [
       "                    df        sum_sq       mean_sq         F    PR(>F)\n",
       "C(Temp)            2.0  3.546060e+04  17730.300000  1.421276  0.247151\n",
       "C(Alloy)           1.0  9.953388e+04  99533.877778  7.978719  0.005911\n",
       "C(Temp):C(Alloy)   2.0  1.534882e+04   7674.411111  0.615187  0.542957\n",
       "Residual          84.0  1.047893e+06  12474.919048       NaN       NaN"
      ]
     },
     "execution_count": 13,
     "metadata": {},
     "output_type": "execute_result"
    }
   ],
   "source": [
    "formula = 'Response ~ C(Temp) + C(Alloy) + C(Temp) : C(Alloy)'\n",
    "model=ols(formula,dset).fit()\n",
    "aov_table=anova_lm(model)\n",
    "aov_table"
   ]
  },
  {
   "cell_type": "code",
   "execution_count": 36,
   "id": "697af99d",
   "metadata": {},
   "outputs": [
    {
     "data": {
      "text/plain": [
       "<AxesSubplot:xlabel='Temp', ylabel='Response'>"
      ]
     },
     "execution_count": 36,
     "metadata": {},
     "output_type": "execute_result"
    },
    {
     "data": {
      "image/png": "[encoded data removed]",
      "text/plain": [
       "<Figure size 432x288 with 1 Axes>"
      ]
     },
     "metadata": {
      "needs_background": "light"
     },
     "output_type": "display_data"
    }
   ],
   "source": [
    "sns.pointplot(x=\"Temp\", y=\"Response\", data=dset, hue=\"Alloy\", ci=None)"
   ]
  },
  {
   "cell_type": "markdown",
   "id": "24cb172e",
   "metadata": {},
   "source": [
    "Since p-value> alpha = 0.05, failed to  reject the null. So, there  is no difference among  the temperature  levels  on  the  hardness  of  dental  implant,  separately  for  the  two  types of alloys. "
   ]
  },
  {
   "cell_type": "markdown",
   "id": "4088f7d6",
   "metadata": {},
   "source": [
    "### 7.6 Consider the interaction effect of dentist and method and comment on the interaction plot, separately for the two types of alloys?"
   ]
  },
  {
   "cell_type": "code",
   "execution_count": 15,
   "id": "47dd6afb",
   "metadata": {},
   "outputs": [
    {
     "data": {
      "text/html": [
       "<div>\n",
       "<style scoped>\n",
       "    .dataframe tbody tr th:only-of-type {\n",
       "        vertical-align: middle;\n",
       "    }\n",
       "\n",
       "    .dataframe tbody tr th {\n",
       "        vertical-align: top;\n",
       "    }\n",
       "\n",
       "    .dataframe thead th {\n",
       "        text-align: right;\n",
       "    }\n",
       "</style>\n",
       "<table border=\"1\" class=\"dataframe\">\n",
       "  <thead>\n",
       "    <tr style=\"text-align: right;\">\n",
       "      <th></th>\n",
       "      <th>df</th>\n",
       "      <th>sum_sq</th>\n",
       "      <th>mean_sq</th>\n",
       "      <th>F</th>\n",
       "      <th>PR(&gt;F)</th>\n",
       "    </tr>\n",
       "  </thead>\n",
       "  <tbody>\n",
       "    <tr>\n",
       "      <th>C(Dentist)</th>\n",
       "      <td>4.0</td>\n",
       "      <td>78845.222222</td>\n",
       "      <td>19711.305556</td>\n",
       "      <td>2.548191</td>\n",
       "      <td>4.613193e-02</td>\n",
       "    </tr>\n",
       "    <tr>\n",
       "      <th>C(Method)</th>\n",
       "      <td>2.0</td>\n",
       "      <td>381888.600000</td>\n",
       "      <td>190944.300000</td>\n",
       "      <td>24.684441</td>\n",
       "      <td>5.795721e-09</td>\n",
       "    </tr>\n",
       "    <tr>\n",
       "      <th>C(Dentist):C(Method)</th>\n",
       "      <td>8.0</td>\n",
       "      <td>157346.844444</td>\n",
       "      <td>19668.355556</td>\n",
       "      <td>2.542639</td>\n",
       "      <td>1.657388e-02</td>\n",
       "    </tr>\n",
       "    <tr>\n",
       "      <th>Residual</th>\n",
       "      <td>75.0</td>\n",
       "      <td>580155.833333</td>\n",
       "      <td>7735.411111</td>\n",
       "      <td>NaN</td>\n",
       "      <td>NaN</td>\n",
       "    </tr>\n",
       "  </tbody>\n",
       "</table>\n",
       "</div>"
      ],
      "text/plain": [
       "                        df         sum_sq        mean_sq          F  \\\n",
       "C(Dentist)             4.0   78845.222222   19711.305556   2.548191   \n",
       "C(Method)              2.0  381888.600000  190944.300000  24.684441   \n",
       "C(Dentist):C(Method)   8.0  157346.844444   19668.355556   2.542639   \n",
       "Residual              75.0  580155.833333    7735.411111        NaN   \n",
       "\n",
       "                            PR(>F)  \n",
       "C(Dentist)            4.613193e-02  \n",
       "C(Method)             5.795721e-09  \n",
       "C(Dentist):C(Method)  1.657388e-02  \n",
       "Residual                       NaN  "
      ]
     },
     "execution_count": 15,
     "metadata": {},
     "output_type": "execute_result"
    }
   ],
   "source": [
    "formula = 'Response ~ C(Dentist) + C(Method) + C(Dentist) : C(Method)'\n",
    "model=ols(formula,dset).fit()\n",
    "aov_table=anova_lm(model)\n",
    "aov_table"
   ]
  },
  {
   "cell_type": "code",
   "execution_count": 16,
   "id": "f1d6263e",
   "metadata": {},
   "outputs": [
    {
     "data": {
      "text/plain": [
       "<AxesSubplot:xlabel='Dentist', ylabel='Response'>"
      ]
     },
     "execution_count": 16,
     "metadata": {},
     "output_type": "execute_result"
    },
    {
     "data": {
      "image/png": "[encoded data removed]",
      "text/plain": [
       "<Figure size 432x288 with 1 Axes>"
      ]
     },
     "metadata": {
      "needs_background": "light"
     },
     "output_type": "display_data"
    }
   ],
   "source": [
    "sns.pointplot(x=\"Dentist\", y=\"Response\", data=dset, hue=\"Method\", ci=None)"
   ]
  },
  {
   "cell_type": "markdown",
   "id": "c332634c",
   "metadata": {},
   "source": [
    "### 7.7 Now consider the effect of both factors, dentist, and method, separately on each alloy. What do you conclude? Is it possible to identify which dentists are different, which methods are different, and which interaction levels are different?"
   ]
  },
  {
   "cell_type": "code",
   "execution_count": 35,
   "id": "890e4160",
   "metadata": {},
   "outputs": [
    {
     "data": {
      "text/html": [
       "<div>\n",
       "<style scoped>\n",
       "    .dataframe tbody tr th:only-of-type {\n",
       "        vertical-align: middle;\n",
       "    }\n",
       "\n",
       "    .dataframe tbody tr th {\n",
       "        vertical-align: top;\n",
       "    }\n",
       "\n",
       "    .dataframe thead th {\n",
       "        text-align: right;\n",
       "    }\n",
       "</style>\n",
       "<table border=\"1\" class=\"dataframe\">\n",
       "  <thead>\n",
       "    <tr style=\"text-align: right;\">\n",
       "      <th></th>\n",
       "      <th>df</th>\n",
       "      <th>sum_sq</th>\n",
       "      <th>mean_sq</th>\n",
       "      <th>F</th>\n",
       "      <th>PR(&gt;F)</th>\n",
       "    </tr>\n",
       "  </thead>\n",
       "  <tbody>\n",
       "    <tr>\n",
       "      <th>C(Dentist)</th>\n",
       "      <td>4.0</td>\n",
       "      <td>78845.222222</td>\n",
       "      <td>19711.305556</td>\n",
       "      <td>3.201522</td>\n",
       "      <td>1.893410e-02</td>\n",
       "    </tr>\n",
       "    <tr>\n",
       "      <th>C(Method)</th>\n",
       "      <td>2.0</td>\n",
       "      <td>381888.600000</td>\n",
       "      <td>190944.300000</td>\n",
       "      <td>31.013282</td>\n",
       "      <td>5.635156e-10</td>\n",
       "    </tr>\n",
       "    <tr>\n",
       "      <th>C(Alloy)</th>\n",
       "      <td>1.0</td>\n",
       "      <td>99533.877778</td>\n",
       "      <td>99533.877778</td>\n",
       "      <td>16.166349</td>\n",
       "      <td>1.645370e-04</td>\n",
       "    </tr>\n",
       "    <tr>\n",
       "      <th>C(Dentist):C(Method)</th>\n",
       "      <td>8.0</td>\n",
       "      <td>157346.844444</td>\n",
       "      <td>19668.355556</td>\n",
       "      <td>3.194546</td>\n",
       "      <td>4.374773e-03</td>\n",
       "    </tr>\n",
       "    <tr>\n",
       "      <th>C(Dentist):C(Alloy)</th>\n",
       "      <td>4.0</td>\n",
       "      <td>8179.177778</td>\n",
       "      <td>2044.794444</td>\n",
       "      <td>0.332117</td>\n",
       "      <td>8.552980e-01</td>\n",
       "    </tr>\n",
       "    <tr>\n",
       "      <th>C(Method):C(Alloy)</th>\n",
       "      <td>2.0</td>\n",
       "      <td>46388.688889</td>\n",
       "      <td>23194.344444</td>\n",
       "      <td>3.767239</td>\n",
       "      <td>2.875883e-02</td>\n",
       "    </tr>\n",
       "    <tr>\n",
       "      <th>C(Dentist):C(Method):C(Alloy)</th>\n",
       "      <td>8.0</td>\n",
       "      <td>56642.755556</td>\n",
       "      <td>7080.344444</td>\n",
       "      <td>1.149994</td>\n",
       "      <td>3.442781e-01</td>\n",
       "    </tr>\n",
       "    <tr>\n",
       "      <th>Residual</th>\n",
       "      <td>60.0</td>\n",
       "      <td>369411.333333</td>\n",
       "      <td>6156.855556</td>\n",
       "      <td>NaN</td>\n",
       "      <td>NaN</td>\n",
       "    </tr>\n",
       "  </tbody>\n",
       "</table>\n",
       "</div>"
      ],
      "text/plain": [
       "                                 df         sum_sq        mean_sq          F  \\\n",
       "C(Dentist)                      4.0   78845.222222   19711.305556   3.201522   \n",
       "C(Method)                       2.0  381888.600000  190944.300000  31.013282   \n",
       "C(Alloy)                        1.0   99533.877778   99533.877778  16.166349   \n",
       "C(Dentist):C(Method)            8.0  157346.844444   19668.355556   3.194546   \n",
       "C(Dentist):C(Alloy)             4.0    8179.177778    2044.794444   0.332117   \n",
       "C(Method):C(Alloy)              2.0   46388.688889   23194.344444   3.767239   \n",
       "C(Dentist):C(Method):C(Alloy)   8.0   56642.755556    7080.344444   1.149994   \n",
       "Residual                       60.0  369411.333333    6156.855556        NaN   \n",
       "\n",
       "                                     PR(>F)  \n",
       "C(Dentist)                     1.893410e-02  \n",
       "C(Method)                      5.635156e-10  \n",
       "C(Alloy)                       1.645370e-04  \n",
       "C(Dentist):C(Method)           4.374773e-03  \n",
       "C(Dentist):C(Alloy)            8.552980e-01  \n",
       "C(Method):C(Alloy)             2.875883e-02  \n",
       "C(Dentist):C(Method):C(Alloy)  3.442781e-01  \n",
       "Residual                                NaN  "
      ]
     },
     "execution_count": 35,
     "metadata": {},
     "output_type": "execute_result"
    }
   ],
   "source": [
    "formula='Response ~ C(Dentist) + C(Method) + C(Alloy) + C(Dentist) : C(Method) + C(Dentist) : C(Alloy) + C(Method) : C(Alloy) + C(Dentist) : C(Method): C(Alloy) '\n",
    "model=ols(formula,dset).fit()\n",
    "aov_table=anova_lm(model)\n",
    "aov_table"
   ]
  },
  {
   "cell_type": "code",
   "execution_count": 30,
   "id": "dcf33644",
   "metadata": {},
   "outputs": [
    {
     "data": {
      "text/plain": [
       "<AxesSubplot:xlabel='Dentist', ylabel='Response'>"
      ]
     },
     "execution_count": 30,
     "metadata": {},
     "output_type": "execute_result"
    },
    {
     "data": {
      "image/png": "[encoded data removed]",
      "text/plain": [
       "<Figure size 432x288 with 1 Axes>"
      ]
     },
     "metadata": {
      "needs_background": "light"
     },
     "output_type": "display_data"
    }
   ],
   "source": [
    "sns.pointplot(x=\"Dentist\", y=\"Response\", data=dset, hue=\"Alloy\", ci=None)"
   ]
  },
  {
   "cell_type": "code",
   "execution_count": 47,
   "id": "dc8ea70e",
   "metadata": {},
   "outputs": [
    {
     "data": {
      "text/plain": [
       "<AxesSubplot:xlabel='Method', ylabel='Response'>"
      ]
     },
     "execution_count": 47,
     "metadata": {},
     "output_type": "execute_result"
    },
    {
     "data": {
      "image/png": "[encoded data removed]",
      "text/plain": [
       "<Figure size 432x288 with 1 Axes>"
      ]
     },
     "metadata": {
      "needs_background": "light"
     },
     "output_type": "display_data"
    }
   ],
   "source": [
    "sns.pointplot(x=\"Method\", y=\"Response\", data=dset, hue=\"Alloy\", ci=None)"
   ]
  }
 ],
 "metadata": {
  "kernelspec": {
   "display_name": "Python 3 (ipykernel)",
   "language": "python",
   "name": "python3"
  },
  "language_info": {
   "codemirror_mode": {
    "name": "ipython",
    "version": 3
   },
   "file_extension": ".py",
   "mimetype": "text/x-python",
   "name": "python",
   "nbconvert_exporter": "python",
   "pygments_lexer": "ipython3",
   "version": "3.9.12"
  }
 },
 "nbformat": 4,
 "nbformat_minor": 5
}
